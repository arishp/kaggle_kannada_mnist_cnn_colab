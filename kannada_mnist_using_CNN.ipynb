{
  "nbformat": 4,
  "nbformat_minor": 0,
  "metadata": {
    "colab": {
      "name": "kannada_mnist_using_CNN.ipynb",
      "provenance": [],
      "toc_visible": true
    },
    "kernelspec": {
      "name": "python3",
      "display_name": "Python 3"
    }
  },
  "cells": [
    {
      "cell_type": "markdown",
      "metadata": {
        "id": "VeKtWRRWaP4G",
        "colab_type": "text"
      },
      "source": [
        "IMPORTING LIBRARIES"
      ]
    },
    {
      "cell_type": "markdown",
      "metadata": {
        "id": "buNd7noLWgOg",
        "colab_type": "text"
      },
      "source": [
        "###Steps to connect to kaggle"
      ]
    },
    {
      "cell_type": "code",
      "metadata": {
        "id": "FtDbTOxxWB3-",
        "colab_type": "code",
        "outputId": "f2de0c2f-419d-4550-8407-e6df6b6c88fd",
        "colab": {
          "base_uri": "https://localhost:8080/",
          "height": 239
        }
      },
      "source": [
        "!pip install kaggle"
      ],
      "execution_count": 1,
      "outputs": [
        {
          "output_type": "stream",
          "text": [
            "Requirement already satisfied: kaggle in /usr/local/lib/python3.6/dist-packages (1.5.6)\n",
            "Requirement already satisfied: requests in /usr/local/lib/python3.6/dist-packages (from kaggle) (2.21.0)\n",
            "Requirement already satisfied: python-dateutil in /usr/local/lib/python3.6/dist-packages (from kaggle) (2.6.1)\n",
            "Requirement already satisfied: six>=1.10 in /usr/local/lib/python3.6/dist-packages (from kaggle) (1.12.0)\n",
            "Requirement already satisfied: tqdm in /usr/local/lib/python3.6/dist-packages (from kaggle) (4.28.1)\n",
            "Requirement already satisfied: certifi in /usr/local/lib/python3.6/dist-packages (from kaggle) (2019.9.11)\n",
            "Requirement already satisfied: python-slugify in /usr/local/lib/python3.6/dist-packages (from kaggle) (4.0.0)\n",
            "Requirement already satisfied: urllib3<1.25,>=1.21.1 in /usr/local/lib/python3.6/dist-packages (from kaggle) (1.24.3)\n",
            "Requirement already satisfied: idna<2.9,>=2.5 in /usr/local/lib/python3.6/dist-packages (from requests->kaggle) (2.8)\n",
            "Requirement already satisfied: chardet<3.1.0,>=3.0.2 in /usr/local/lib/python3.6/dist-packages (from requests->kaggle) (3.0.4)\n",
            "Requirement already satisfied: text-unidecode>=1.3 in /usr/local/lib/python3.6/dist-packages (from python-slugify->kaggle) (1.3)\n"
          ],
          "name": "stdout"
        }
      ]
    },
    {
      "cell_type": "code",
      "metadata": {
        "id": "HeInpVVIRMPK",
        "colab_type": "code",
        "colab": {}
      },
      "source": [
        "import os\n",
        "os.environ['KAGGLE_USERNAME'] = \"*****\" # username from the json file\n",
        "os.environ['KAGGLE_KEY'] = \"*****\" # key from the json file"
      ],
      "execution_count": 0,
      "outputs": []
    },
    {
      "cell_type": "markdown",
      "metadata": {
        "id": "B1SBBpz_WrqQ",
        "colab_type": "text"
      },
      "source": [
        "###Download train.csv and test.csv"
      ]
    },
    {
      "cell_type": "code",
      "metadata": {
        "id": "6rqK-eIbTAGN",
        "colab_type": "code",
        "outputId": "652ab016-8e98-4f18-c6d9-da4985e3d936",
        "colab": {
          "base_uri": "https://localhost:8080/",
          "height": 276
        }
      },
      "source": [
        "!kaggle competitions download -c Kannada-MNIST"
      ],
      "execution_count": 3,
      "outputs": [
        {
          "output_type": "stream",
          "text": [
            "Warning: Looks like you're using an outdated API Version, please consider updating (server 1.5.6 / client 1.5.4)\n",
            "Downloading test.csv.zip to /content\n",
            "  0% 0.00/818k [00:00<?, ?B/s]\n",
            "100% 818k/818k [00:00<00:00, 53.9MB/s]\n",
            "Downloading train.csv.zip to /content\n",
            " 52% 5.00M/9.71M [00:00<00:00, 20.7MB/s]\n",
            "100% 9.71M/9.71M [00:00<00:00, 32.2MB/s]\n",
            "Downloading sample_submission.csv to /content\n",
            "  0% 0.00/33.1k [00:00<?, ?B/s]\n",
            "100% 33.1k/33.1k [00:00<00:00, 29.2MB/s]\n",
            "Downloading Dig-MNIST.csv.zip to /content\n",
            "  0% 0.00/1.90M [00:00<?, ?B/s]\n",
            "100% 1.90M/1.90M [00:00<00:00, 62.0MB/s]\n"
          ],
          "name": "stdout"
        }
      ]
    },
    {
      "cell_type": "code",
      "metadata": {
        "id": "jgnMseNYE4PW",
        "colab_type": "code",
        "colab": {
          "base_uri": "https://localhost:8080/",
          "height": 109
        },
        "outputId": "5f239af9-ba96-4eed-85aa-b2d06c249c48"
      },
      "source": [
        "!unzip test.csv.zip\n",
        "!unzip train.csv.zip"
      ],
      "execution_count": 8,
      "outputs": [
        {
          "output_type": "stream",
          "text": [
            "Archive:  test.csv.zip\n",
            "replace test.csv? [y]es, [n]o, [A]ll, [N]one, [r]ename: y\n",
            "  inflating: test.csv                \n",
            "Archive:  train.csv.zip\n",
            "  inflating: train.csv               \n"
          ],
          "name": "stdout"
        }
      ]
    },
    {
      "cell_type": "markdown",
      "metadata": {
        "id": "O6nHyKlZdska",
        "colab_type": "text"
      },
      "source": [
        "###Importing libraries"
      ]
    },
    {
      "cell_type": "code",
      "metadata": {
        "id": "8MD-2sh2jvqG",
        "colab_type": "code",
        "colab": {
          "base_uri": "https://localhost:8080/",
          "height": 100
        },
        "outputId": "2a1f8fa1-79ac-48a7-9516-809660cd21b3"
      },
      "source": [
        "import tensorflow as tf\n",
        "import pandas as pd # for pandas data frame operations\n",
        "import numpy as np # to work on numerical arrays\n",
        "import seaborn as sns # seabonrn for visualization\n",
        "import matplotlib.pyplot as plt # plots for visualization\n",
        "import matplotlib.image as mpimg # to load image data\n",
        "from sklearn.model_selection import train_test_split # to split train.csv data for cross validation\n",
        "from sklearn.metrics import confusion_matrix # to construct confusion matrix\n",
        "import itertools # has iterator functions for efficient looping\n",
        "from keras.utils.np_utils import to_categorical # convert to one-hot-encoding\n",
        "from keras.models import Sequential # to construct in CNN\n",
        "from keras.layers import Dense, Dropout, Flatten, Conv2D, MaxPool2D # Operations on CNN\n",
        "from keras.optimizers import RMSprop # RMSProp optimizer\n",
        "from keras.preprocessing.image import ImageDataGenerator # Image generator class\n",
        "from keras.callbacks import ReduceLROnPlateau # Reduce learning rate callback function"
      ],
      "execution_count": 4,
      "outputs": [
        {
          "output_type": "display_data",
          "data": {
            "text/html": [
              "<p style=\"color: red;\">\n",
              "The default version of TensorFlow in Colab will soon switch to TensorFlow 2.x.<br>\n",
              "We recommend you <a href=\"https://www.tensorflow.org/guide/migrate\" target=\"_blank\">upgrade</a> now \n",
              "or ensure your notebook will continue to use TensorFlow 1.x via the <code>%tensorflow_version 1.x</code> magic:\n",
              "<a href=\"https://colab.research.google.com/notebooks/tensorflow_version.ipynb\" target=\"_blank\">more info</a>.</p>\n"
            ],
            "text/plain": [
              "<IPython.core.display.HTML object>"
            ]
          },
          "metadata": {
            "tags": []
          }
        },
        {
          "output_type": "stream",
          "text": [
            "Using TensorFlow backend.\n"
          ],
          "name": "stderr"
        }
      ]
    },
    {
      "cell_type": "markdown",
      "metadata": {
        "id": "ZJH-nJeoig4j",
        "colab_type": "text"
      },
      "source": [
        "###Setting environment for visulaization"
      ]
    },
    {
      "cell_type": "code",
      "metadata": {
        "id": "CJ6e7zhHiebs",
        "colab_type": "code",
        "colab": {}
      },
      "source": [
        "%matplotlib inline\n",
        "sns.set()"
      ],
      "execution_count": 0,
      "outputs": []
    },
    {
      "cell_type": "markdown",
      "metadata": {
        "id": "kbEUManMdgzB",
        "colab_type": "text"
      },
      "source": [
        "###Loading the data set"
      ]
    },
    {
      "cell_type": "code",
      "metadata": {
        "id": "Lk3ozPWvVmsi",
        "colab_type": "code",
        "outputId": "57145273-47ba-4973-cdcf-866388c342d1",
        "colab": {
          "base_uri": "https://localhost:8080/",
          "height": 127
        }
      },
      "source": [
        "# Load the data (images stored as pixel values)\n",
        "train = pd.read_csv(\"train.csv\")\n",
        "test = pd.read_csv(\"test.csv\")\n",
        "test.columns"
      ],
      "execution_count": 48,
      "outputs": [
        {
          "output_type": "execute_result",
          "data": {
            "text/plain": [
              "Index(['id', 'pixel0', 'pixel1', 'pixel2', 'pixel3', 'pixel4', 'pixel5',\n",
              "       'pixel6', 'pixel7', 'pixel8',\n",
              "       ...\n",
              "       'pixel774', 'pixel775', 'pixel776', 'pixel777', 'pixel778', 'pixel779',\n",
              "       'pixel780', 'pixel781', 'pixel782', 'pixel783'],\n",
              "      dtype='object', length=785)"
            ]
          },
          "metadata": {
            "tags": []
          },
          "execution_count": 48
        }
      ]
    },
    {
      "cell_type": "code",
      "metadata": {
        "id": "dMxyzcshXREZ",
        "colab_type": "code",
        "outputId": "3e702222-207b-405d-bf67-fb7313dc6b33",
        "colab": {
          "base_uri": "https://localhost:8080/",
          "height": 487
        }
      },
      "source": [
        "Y = train[\"label\"] # target of train.csv data\n",
        "X = train.drop(labels = [\"label\"],axis = 1) # Drop 'label' column from train.csv data\n",
        "testX = test.drop(labels = [\"id\"],axis = 1) # Drop 'id' column from test.csv data\n",
        "g = sns.countplot(Y) # display the distribution of digits in train.csv data\n",
        "Y.value_counts().sort_values() # count the distribution of digits in train.csv data"
      ],
      "execution_count": 21,
      "outputs": [
        {
          "output_type": "execute_result",
          "data": {
            "text/plain": [
              "9    6000\n",
              "8    6000\n",
              "7    6000\n",
              "6    6000\n",
              "5    6000\n",
              "4    6000\n",
              "3    6000\n",
              "2    6000\n",
              "1    6000\n",
              "0    6000\n",
              "Name: label, dtype: int64"
            ]
          },
          "metadata": {
            "tags": []
          },
          "execution_count": 21
        },
        {
          "output_type": "display_data",
          "data": {
            "image/png": "[encoded data removed]",
            "text/plain": [
              "<Figure size 432x288 with 1 Axes>"
            ]
          },
          "metadata": {
            "tags": []
          }
        }
      ]
    },
    {
      "cell_type": "code",
      "metadata": {
        "id": "AKBsJ-lIk3Ad",
        "colab_type": "code",
        "colab": {}
      },
      "source": [
        "del train # delete train dataframe to free some space "
      ],
      "execution_count": 0,
      "outputs": []
    },
    {
      "cell_type": "markdown",
      "metadata": {
        "id": "8xzfGlbSnrDw",
        "colab_type": "text"
      },
      "source": [
        "###Preprocessing"
      ]
    },
    {
      "cell_type": "code",
      "metadata": {
        "id": "kg-dgRSaXTyK",
        "colab_type": "code",
        "outputId": "38d8b6c5-e8ce-492b-e7da-2b0ccbc6805c",
        "colab": {
          "base_uri": "https://localhost:8080/",
          "height": 109
        }
      },
      "source": [
        "#Check for null and missing values in train.csv data\n",
        "X.isnull().any().describe() # the result shows there is no null values"
      ],
      "execution_count": 23,
      "outputs": [
        {
          "output_type": "execute_result",
          "data": {
            "text/plain": [
              "count       784\n",
              "unique        1\n",
              "top       False\n",
              "freq        784\n",
              "dtype: object"
            ]
          },
          "metadata": {
            "tags": []
          },
          "execution_count": 23
        }
      ]
    },
    {
      "cell_type": "code",
      "metadata": {
        "id": "8X7ucScdZRyA",
        "colab_type": "code",
        "outputId": "bb1f8358-4711-4ecc-d038-b55f47e8a949",
        "colab": {
          "base_uri": "https://localhost:8080/",
          "height": 109
        }
      },
      "source": [
        "#Check for null and missing values in test.csv data\n",
        "testX.isnull().any().describe() # the result shows there is no null values"
      ],
      "execution_count": 24,
      "outputs": [
        {
          "output_type": "execute_result",
          "data": {
            "text/plain": [
              "count       784\n",
              "unique        1\n",
              "top       False\n",
              "freq        784\n",
              "dtype: object"
            ]
          },
          "metadata": {
            "tags": []
          },
          "execution_count": 24
        }
      ]
    },
    {
      "cell_type": "code",
      "metadata": {
        "id": "p6JKrivLZkZM",
        "colab_type": "code",
        "colab": {}
      },
      "source": [
        "X = X / 255.0 # Normalize train.csv data\n",
        "testX = testX / 255.0 # Normalize test.csv the data"
      ],
      "execution_count": 0,
      "outputs": []
    },
    {
      "cell_type": "code",
      "metadata": {
        "id": "i45YyhImZtpS",
        "colab_type": "code",
        "colab": {}
      },
      "source": [
        "# Reshape image in 3 dimensions (height = 28px, width = 28px , channel = 1)\n",
        "X = X.values.reshape(-1,28,28,1)\n",
        "testX = testX.values.reshape(-1,28,28,1)"
      ],
      "execution_count": 0,
      "outputs": []
    },
    {
      "cell_type": "code",
      "metadata": {
        "id": "sOuWRWgYrszs",
        "colab_type": "code",
        "outputId": "05d37705-38b8-46a8-e4ea-4a1f83c087d9",
        "colab": {
          "base_uri": "https://localhost:8080/",
          "height": 35
        }
      },
      "source": [
        "X.shape #reshaped from \"42000 X 784\" to \"42000 X 28 X 28 X 1\""
      ],
      "execution_count": 27,
      "outputs": [
        {
          "output_type": "execute_result",
          "data": {
            "text/plain": [
              "(60000, 28, 28, 1)"
            ]
          },
          "metadata": {
            "tags": []
          },
          "execution_count": 27
        }
      ]
    },
    {
      "cell_type": "code",
      "metadata": {
        "id": "5A65UDFRHb1X",
        "colab_type": "code",
        "colab": {
          "base_uri": "https://localhost:8080/",
          "height": 35
        },
        "outputId": "5c7c232f-3b44-4e1f-8958-9a8865b1efa1"
      },
      "source": [
        "testX.shape"
      ],
      "execution_count": 47,
      "outputs": [
        {
          "output_type": "execute_result",
          "data": {
            "text/plain": [
              "(5000, 28, 28, 1)"
            ]
          },
          "metadata": {
            "tags": []
          },
          "execution_count": 47
        }
      ]
    },
    {
      "cell_type": "code",
      "metadata": {
        "id": "loWs6cUvZyft",
        "colab_type": "code",
        "colab": {}
      },
      "source": [
        "Y = to_categorical(Y, num_classes = 10) # one hot encoding (example: 2 -> [0,0,1,0,0,0,0,0,0,0])"
      ],
      "execution_count": 0,
      "outputs": []
    },
    {
      "cell_type": "code",
      "metadata": {
        "id": "x4GAdj3psrKr",
        "colab_type": "code",
        "outputId": "5aa3e5a3-c6dc-447a-9ab1-ffb6b17aaca9",
        "colab": {
          "base_uri": "https://localhost:8080/",
          "height": 146
        }
      },
      "source": [
        "Y # display the encoded target column"
      ],
      "execution_count": 29,
      "outputs": [
        {
          "output_type": "execute_result",
          "data": {
            "text/plain": [
              "array([[1., 0., 0., ..., 0., 0., 0.],\n",
              "       [0., 1., 0., ..., 0., 0., 0.],\n",
              "       [0., 0., 1., ..., 0., 0., 0.],\n",
              "       ...,\n",
              "       [0., 0., 0., ..., 1., 0., 0.],\n",
              "       [0., 0., 0., ..., 0., 1., 0.],\n",
              "       [0., 0., 0., ..., 0., 0., 1.]], dtype=float32)"
            ]
          },
          "metadata": {
            "tags": []
          },
          "execution_count": 29
        }
      ]
    },
    {
      "cell_type": "code",
      "metadata": {
        "id": "wkW8gp4maGHM",
        "colab_type": "code",
        "colab": {}
      },
      "source": [
        "X_train, X_val, Y_train, Y_val = train_test_split(X, Y, test_size = 0.2, shuffle=True) # Split the train and the validation set for cross validation"
      ],
      "execution_count": 0,
      "outputs": []
    },
    {
      "cell_type": "code",
      "metadata": {
        "id": "AaC-FM2utnzG",
        "colab_type": "code",
        "outputId": "f93589a0-80ae-433c-acfa-537d6106a1b9",
        "colab": {
          "base_uri": "https://localhost:8080/",
          "height": 90
        }
      },
      "source": [
        "# dimensions of the cross validation data\n",
        "print(X_train.shape)\n",
        "print(X_val.shape)\n",
        "print(Y_train.shape)\n",
        "print(Y_val.shape)"
      ],
      "execution_count": 31,
      "outputs": [
        {
          "output_type": "stream",
          "text": [
            "(48000, 28, 28, 1)\n",
            "(12000, 28, 28, 1)\n",
            "(48000, 10)\n",
            "(12000, 10)\n"
          ],
          "name": "stdout"
        }
      ]
    },
    {
      "cell_type": "markdown",
      "metadata": {
        "id": "d7d1S9gXubEM",
        "colab_type": "text"
      },
      "source": [
        "###Display sample images from numpy array"
      ]
    },
    {
      "cell_type": "code",
      "metadata": {
        "id": "9CGnNAJDaKz6",
        "colab_type": "code",
        "outputId": "69e080ac-2513-4a5d-dd64-a85418570c71",
        "colab": {
          "base_uri": "https://localhost:8080/",
          "height": 268
        }
      },
      "source": [
        "g = plt.imshow(X_train[0][:,:,0]) # first image"
      ],
      "execution_count": 32,
      "outputs": [
        {
          "output_type": "display_data",
          "data": {
            "image/png": "[encoded data removed]",
            "text/plain": [
              "<Figure size 432x288 with 1 Axes>"
            ]
          },
          "metadata": {
            "tags": []
          }
        }
      ]
    },
    {
      "cell_type": "code",
      "metadata": {
        "id": "LfctP7O2uVsT",
        "colab_type": "code",
        "outputId": "f2dde9a6-5786-4f0d-a881-4781654cec7e",
        "colab": {
          "base_uri": "https://localhost:8080/",
          "height": 268
        }
      },
      "source": [
        "g = plt.imshow(X_train[1][:,:,0]) # second image"
      ],
      "execution_count": 33,
      "outputs": [
        {
          "output_type": "display_data",
          "data": {
            "image/png": "[encoded data removed]",
            "text/plain": [
              "<Figure size 432x288 with 1 Axes>"
            ]
          },
          "metadata": {
            "tags": []
          }
        }
      ]
    },
    {
      "cell_type": "markdown",
      "metadata": {
        "id": "ojSwKHZ78z6q",
        "colab_type": "text"
      },
      "source": [
        "#Constructing the Convolutional Neural Network (CNN)\n",
        "#### [Conv2D(relu) -> Conv2D(relu) -> MaxPool2D -> Dropout] -> [Conv2D(relu) -> Conv2D(relu) -> MaxPool2D -> Dropout] ->\n",
        "####-> Flatten -> Dense -> Dropout -> Out"
      ]
    },
    {
      "cell_type": "code",
      "metadata": {
        "id": "tkd4BM0faTIo",
        "colab_type": "code",
        "outputId": "f4dbfd43-8c70-4830-e14c-619db717e402",
        "colab": {
          "base_uri": "https://localhost:8080/",
          "height": 276
        }
      },
      "source": [
        "model = Sequential()\n",
        "model.add(Conv2D(filters = 32, kernel_size = (5,5),padding = 'Same', activation ='relu',\n",
        "                 input_shape = (28,28,1))) # input 2D convolutional layer\n",
        "model.add(Conv2D(filters = 32, kernel_size = (5,5),padding = 'Same', activation ='relu'))\n",
        "model.add(MaxPool2D(pool_size=(2,2))) # 2D max pooling\n",
        "model.add(Dropout(0.25)) # applies dropout to prevent overfitting\n",
        "\n",
        "model.add(Conv2D(filters = 64, kernel_size = (3,3),padding = 'Same', activation ='relu'))\n",
        "model.add(Conv2D(filters = 64, kernel_size = (3,3),padding = 'Same', activation ='relu'))\n",
        "model.add(MaxPool2D(pool_size=(2,2), strides=(2,2)))\n",
        "model.add(Dropout(0.25))\n",
        "\n",
        "model.add(Flatten()) # Flattens without affecting the size\n",
        "model.add(Dense(256, activation = \"relu\")) # dense layer of size 256 units\n",
        "model.add(Dropout(0.5))\n",
        "model.add(Dense(10, activation = \"softmax\")) # dense layer of size 10 to output the digit value"
      ],
      "execution_count": 34,
      "outputs": [
        {
          "output_type": "stream",
          "text": [
            "WARNING:tensorflow:From /usr/local/lib/python3.6/dist-packages/keras/backend/tensorflow_backend.py:66: The name tf.get_default_graph is deprecated. Please use tf.compat.v1.get_default_graph instead.\n",
            "\n",
            "WARNING:tensorflow:From /usr/local/lib/python3.6/dist-packages/keras/backend/tensorflow_backend.py:541: The name tf.placeholder is deprecated. Please use tf.compat.v1.placeholder instead.\n",
            "\n",
            "WARNING:tensorflow:From /usr/local/lib/python3.6/dist-packages/keras/backend/tensorflow_backend.py:4432: The name tf.random_uniform is deprecated. Please use tf.random.uniform instead.\n",
            "\n",
            "WARNING:tensorflow:From /usr/local/lib/python3.6/dist-packages/keras/backend/tensorflow_backend.py:4267: The name tf.nn.max_pool is deprecated. Please use tf.nn.max_pool2d instead.\n",
            "\n",
            "WARNING:tensorflow:From /usr/local/lib/python3.6/dist-packages/keras/backend/tensorflow_backend.py:148: The name tf.placeholder_with_default is deprecated. Please use tf.compat.v1.placeholder_with_default instead.\n",
            "\n",
            "WARNING:tensorflow:From /usr/local/lib/python3.6/dist-packages/keras/backend/tensorflow_backend.py:3733: calling dropout (from tensorflow.python.ops.nn_ops) with keep_prob is deprecated and will be removed in a future version.\n",
            "Instructions for updating:\n",
            "Please use `rate` instead of `keep_prob`. Rate should be set to `rate = 1 - keep_prob`.\n"
          ],
          "name": "stdout"
        }
      ]
    },
    {
      "cell_type": "code",
      "metadata": {
        "id": "45rgWT1-ahRe",
        "colab_type": "code",
        "outputId": "8f472c51-824b-4bb8-e153-81fd845cc130",
        "colab": {
          "base_uri": "https://localhost:8080/",
          "height": 110
        }
      },
      "source": [
        "optimizer = RMSprop(lr=0.001, rho=0.9, epsilon=1e-08, decay=0.0) # RMSprop optimizer divides the gradient by root mean square\n",
        "model.compile(optimizer = optimizer , loss = \"categorical_crossentropy\", metrics=[\"accuracy\"]) # Compile the model\n",
        "learning_rate_reduction = ReduceLROnPlateau(monitor='val_acc', \n",
        "                                            patience=3, \n",
        "                                            factor=0.3, \n",
        "                                            verbose=1, \n",
        "                                            min_lr=0.00001) # reduces learning rate if the learning is stagnant"
      ],
      "execution_count": 35,
      "outputs": [
        {
          "output_type": "stream",
          "text": [
            "WARNING:tensorflow:From /usr/local/lib/python3.6/dist-packages/keras/optimizers.py:793: The name tf.train.Optimizer is deprecated. Please use tf.compat.v1.train.Optimizer instead.\n",
            "\n",
            "WARNING:tensorflow:From /usr/local/lib/python3.6/dist-packages/keras/backend/tensorflow_backend.py:3576: The name tf.log is deprecated. Please use tf.math.log instead.\n",
            "\n"
          ],
          "name": "stdout"
        }
      ]
    },
    {
      "cell_type": "code",
      "metadata": {
        "id": "-5EQgNqFbOua",
        "colab_type": "code",
        "colab": {}
      },
      "source": [
        "# Generate batches of tensor image data with real-time data augmentation\n",
        "# The data will be looped over (in batches).\n",
        "# With data augmentation to prevent overfitting (accuracy 0.99286)\n",
        "datagen = ImageDataGenerator(\n",
        "        featurewise_center=False,  # set input mean to 0 over the dataset\n",
        "        samplewise_center=False,  # set each sample mean to 0\n",
        "        featurewise_std_normalization=False,  # divide inputs by std of the dataset\n",
        "        samplewise_std_normalization=False,  # divide each input by its std\n",
        "        zca_whitening=False,  # apply ZCA whitening\n",
        "        rotation_range=10,  # rotate images in the range (degrees, 0 to 180)\n",
        "        zoom_range = 0.1, # zoom image\n",
        "        width_shift_range=0.1,  # shift images horizontally (fraction of total width)\n",
        "        height_shift_range=0.1,  # shift images vertically (fraction of total height)\n",
        "        horizontal_flip=False,  # flip images horizontally\n",
        "        vertical_flip=False)  # flip images vertically\n",
        "datagen.fit(X_train) # apply datagen augmentation to train.csv data"
      ],
      "execution_count": 0,
      "outputs": []
    },
    {
      "cell_type": "code",
      "metadata": {
        "id": "ilTosJ2obcET",
        "colab_type": "code",
        "outputId": "d8855049-f750-4cce-ecc9-8aafa186afdb",
        "colab": {
          "base_uri": "https://localhost:8080/",
          "height": 1000
        }
      },
      "source": [
        "# Fit the model\n",
        "epochs = 30\n",
        "batch_size = 96\n",
        "history = model.fit_generator(datagen.flow(X_train,Y_train, batch_size=batch_size),\n",
        "                              epochs = epochs, validation_data = (X_val,Y_val),\n",
        "                              verbose = 2, steps_per_epoch=X_train.shape[0] // batch_size\n",
        "                              , callbacks=[learning_rate_reduction])"
      ],
      "execution_count": 37,
      "outputs": [
        {
          "output_type": "stream",
          "text": [
            "WARNING:tensorflow:From /usr/local/lib/python3.6/dist-packages/tensorflow_core/python/ops/math_grad.py:1424: where (from tensorflow.python.ops.array_ops) is deprecated and will be removed in a future version.\n",
            "Instructions for updating:\n",
            "Use tf.where in 2.0, which has the same broadcast rule as np.where\n",
            "WARNING:tensorflow:From /usr/local/lib/python3.6/dist-packages/keras/backend/tensorflow_backend.py:1033: The name tf.assign_add is deprecated. Please use tf.compat.v1.assign_add instead.\n",
            "\n",
            "WARNING:tensorflow:From /usr/local/lib/python3.6/dist-packages/keras/backend/tensorflow_backend.py:1020: The name tf.assign is deprecated. Please use tf.compat.v1.assign instead.\n",
            "\n",
            "WARNING:tensorflow:From /usr/local/lib/python3.6/dist-packages/keras/backend/tensorflow_backend.py:3005: The name tf.Session is deprecated. Please use tf.compat.v1.Session instead.\n",
            "\n",
            "Epoch 1/30\n",
            "WARNING:tensorflow:From /usr/local/lib/python3.6/dist-packages/keras/backend/tensorflow_backend.py:190: The name tf.get_default_session is deprecated. Please use tf.compat.v1.get_default_session instead.\n",
            "\n",
            "WARNING:tensorflow:From /usr/local/lib/python3.6/dist-packages/keras/backend/tensorflow_backend.py:197: The name tf.ConfigProto is deprecated. Please use tf.compat.v1.ConfigProto instead.\n",
            "\n",
            "WARNING:tensorflow:From /usr/local/lib/python3.6/dist-packages/keras/backend/tensorflow_backend.py:207: The name tf.global_variables is deprecated. Please use tf.compat.v1.global_variables instead.\n",
            "\n",
            "WARNING:tensorflow:From /usr/local/lib/python3.6/dist-packages/keras/backend/tensorflow_backend.py:216: The name tf.is_variable_initialized is deprecated. Please use tf.compat.v1.is_variable_initialized instead.\n",
            "\n",
            "WARNING:tensorflow:From /usr/local/lib/python3.6/dist-packages/keras/backend/tensorflow_backend.py:223: The name tf.variables_initializer is deprecated. Please use tf.compat.v1.variables_initializer instead.\n",
            "\n",
            " - 373s - loss: 0.2949 - acc: 0.9071 - val_loss: 0.0468 - val_acc: 0.9886\n",
            "Epoch 2/30\n",
            " - 378s - loss: 0.1132 - acc: 0.9696 - val_loss: 0.0281 - val_acc: 0.9927\n",
            "Epoch 3/30\n",
            " - 376s - loss: 0.0914 - acc: 0.9765 - val_loss: 0.0386 - val_acc: 0.9911\n",
            "Epoch 4/30\n",
            " - 376s - loss: 0.0814 - acc: 0.9790 - val_loss: 0.0307 - val_acc: 0.9942\n",
            "Epoch 5/30\n",
            " - 376s - loss: 0.0784 - acc: 0.9806 - val_loss: 0.0324 - val_acc: 0.9938\n",
            "Epoch 6/30\n",
            " - 374s - loss: 0.0785 - acc: 0.9806 - val_loss: 0.0217 - val_acc: 0.9947\n",
            "Epoch 7/30\n",
            " - 384s - loss: 0.0743 - acc: 0.9816 - val_loss: 0.0275 - val_acc: 0.9944\n",
            "Epoch 8/30\n",
            " - 381s - loss: 0.0740 - acc: 0.9824 - val_loss: 0.0227 - val_acc: 0.9934\n",
            "Epoch 9/30\n",
            " - 377s - loss: 0.0737 - acc: 0.9829 - val_loss: 0.0272 - val_acc: 0.9944\n",
            "\n",
            "Epoch 00009: ReduceLROnPlateau reducing learning rate to 0.0003000000142492354.\n",
            "Epoch 10/30\n",
            " - 366s - loss: 0.0484 - acc: 0.9872 - val_loss: 0.0196 - val_acc: 0.9950\n",
            "Epoch 11/30\n",
            " - 366s - loss: 0.0435 - acc: 0.9892 - val_loss: 0.0238 - val_acc: 0.9952\n",
            "Epoch 12/30\n",
            " - 364s - loss: 0.0437 - acc: 0.9888 - val_loss: 0.0217 - val_acc: 0.9952\n",
            "Epoch 13/30\n",
            " - 362s - loss: 0.0407 - acc: 0.9895 - val_loss: 0.0219 - val_acc: 0.9956\n",
            "Epoch 14/30\n",
            " - 365s - loss: 0.0389 - acc: 0.9894 - val_loss: 0.0179 - val_acc: 0.9952\n",
            "Epoch 15/30\n",
            " - 375s - loss: 0.0385 - acc: 0.9901 - val_loss: 0.0212 - val_acc: 0.9947\n",
            "Epoch 16/30\n",
            " - 379s - loss: 0.0401 - acc: 0.9899 - val_loss: 0.0262 - val_acc: 0.9950\n",
            "\n",
            "Epoch 00016: ReduceLROnPlateau reducing learning rate to 9.000000427477062e-05.\n",
            "Epoch 17/30\n",
            " - 383s - loss: 0.0332 - acc: 0.9906 - val_loss: 0.0200 - val_acc: 0.9955\n",
            "Epoch 18/30\n",
            " - 382s - loss: 0.0323 - acc: 0.9915 - val_loss: 0.0208 - val_acc: 0.9953\n",
            "Epoch 19/30\n",
            " - 376s - loss: 0.0312 - acc: 0.9914 - val_loss: 0.0185 - val_acc: 0.9956\n",
            "\n",
            "Epoch 00019: ReduceLROnPlateau reducing learning rate to 2.700000040931627e-05.\n",
            "Epoch 20/30\n",
            " - 371s - loss: 0.0304 - acc: 0.9915 - val_loss: 0.0181 - val_acc: 0.9955\n",
            "Epoch 21/30\n",
            " - 376s - loss: 0.0311 - acc: 0.9915 - val_loss: 0.0199 - val_acc: 0.9957\n",
            "Epoch 22/30\n",
            " - 379s - loss: 0.0311 - acc: 0.9918 - val_loss: 0.0179 - val_acc: 0.9956\n",
            "\n",
            "Epoch 00022: ReduceLROnPlateau reducing learning rate to 1e-05.\n",
            "Epoch 23/30\n",
            " - 397s - loss: 0.0316 - acc: 0.9913 - val_loss: 0.0184 - val_acc: 0.9955\n",
            "Epoch 24/30\n",
            " - 371s - loss: 0.0308 - acc: 0.9915 - val_loss: 0.0182 - val_acc: 0.9957\n",
            "Epoch 25/30\n",
            " - 368s - loss: 0.0299 - acc: 0.9919 - val_loss: 0.0183 - val_acc: 0.9956\n",
            "Epoch 26/30\n",
            " - 366s - loss: 0.0297 - acc: 0.9924 - val_loss: 0.0183 - val_acc: 0.9957\n",
            "Epoch 27/30\n",
            " - 363s - loss: 0.0307 - acc: 0.9916 - val_loss: 0.0184 - val_acc: 0.9957\n",
            "Epoch 28/30\n",
            " - 372s - loss: 0.0301 - acc: 0.9920 - val_loss: 0.0189 - val_acc: 0.9954\n",
            "Epoch 29/30\n",
            " - 374s - loss: 0.0285 - acc: 0.9921 - val_loss: 0.0189 - val_acc: 0.9955\n",
            "Epoch 30/30\n",
            " - 374s - loss: 0.0318 - acc: 0.9914 - val_loss: 0.0187 - val_acc: 0.9955\n"
          ],
          "name": "stdout"
        }
      ]
    },
    {
      "cell_type": "code",
      "metadata": {
        "id": "6tyXK_QWA-li",
        "colab_type": "code",
        "colab": {}
      },
      "source": [
        "#tf.saved_model.save(model, \"/\")"
      ],
      "execution_count": 0,
      "outputs": []
    },
    {
      "cell_type": "markdown",
      "metadata": {
        "id": "MoNRnYDWwdiS",
        "colab_type": "text"
      },
      "source": [
        "###Visualizing the model **loss** and **accuracy**"
      ]
    },
    {
      "cell_type": "code",
      "metadata": {
        "id": "BVctXW7DyE8V",
        "colab_type": "code",
        "outputId": "6624b2ee-3487-4014-d684-20e82f9e055c",
        "colab": {
          "base_uri": "https://localhost:8080/",
          "height": 35
        }
      },
      "source": [
        "# list all data in history\n",
        "print(history.history.keys())\n",
        "#history.history['loss']"
      ],
      "execution_count": 42,
      "outputs": [
        {
          "output_type": "stream",
          "text": [
            "dict_keys(['val_loss', 'val_acc', 'loss', 'acc', 'lr'])\n"
          ],
          "name": "stdout"
        }
      ]
    },
    {
      "cell_type": "code",
      "metadata": {
        "id": "ffKktKUlbm8-",
        "colab_type": "code",
        "outputId": "a8d6553e-f255-432d-d1e0-0d242176351f",
        "colab": {
          "base_uri": "https://localhost:8080/",
          "height": 269
        }
      },
      "source": [
        "fig, ax = plt.subplots(2,1) # aligning two plots horizontally\n",
        "ax[0].plot(history.history['loss'], label=\"Training loss\") \n",
        "ax[0].plot(history.history['val_loss'],label=\"validation loss\")\n",
        "legend = ax[0].legend(loc='best')\n",
        "\n",
        "ax[1].plot(history.history['acc'], color='b', label=\"Training accuracy\")\n",
        "ax[1].plot(history.history['val_acc'], color='r',label=\"Validation accuracy\")\n",
        "legend = ax[1].legend(loc='best')"
      ],
      "execution_count": 43,
      "outputs": [
        {
          "output_type": "display_data",
          "data": {
            "image/png": "[encoded data removed]",
            "text/plain": [
              "<Figure size 432x288 with 2 Axes>"
            ]
          },
          "metadata": {
            "tags": []
          }
        }
      ]
    },
    {
      "cell_type": "markdown",
      "metadata": {
        "id": "uqmkdlJE0X-Y",
        "colab_type": "text"
      },
      "source": [
        "###Making predictions on test.csv data"
      ]
    },
    {
      "cell_type": "code",
      "metadata": {
        "id": "7Mxy0oRrdFjP",
        "colab_type": "code",
        "colab": {}
      },
      "source": [
        "results = model.predict(testX) # predicting test.csv data\n",
        "results = np.argmax(results,axis = 1) # select the index with maximum probability\n",
        "results = pd.Series(results,name=\"label\")"
      ],
      "execution_count": 0,
      "outputs": []
    },
    {
      "cell_type": "code",
      "metadata": {
        "id": "Dp-CDveT3lCU",
        "colab_type": "code",
        "outputId": "31ea6667-cbb2-4d70-ac08-a73df7f5f7f3",
        "colab": {
          "base_uri": "https://localhost:8080/",
          "height": 54
        }
      },
      "source": [
        "print(len(test['id']))\n",
        "testX.shape # no. of rows in test.csv data"
      ],
      "execution_count": 50,
      "outputs": [
        {
          "output_type": "stream",
          "text": [
            "5000\n"
          ],
          "name": "stdout"
        },
        {
          "output_type": "execute_result",
          "data": {
            "text/plain": [
              "(5000, 28, 28, 1)"
            ]
          },
          "metadata": {
            "tags": []
          },
          "execution_count": 50
        }
      ]
    },
    {
      "cell_type": "code",
      "metadata": {
        "id": "FafJQfDDH9li",
        "colab_type": "code",
        "colab": {}
      },
      "source": [
        ""
      ],
      "execution_count": 0,
      "outputs": []
    },
    {
      "cell_type": "code",
      "metadata": {
        "id": "l9U_5Ll2dQlY",
        "colab_type": "code",
        "outputId": "c3fc0662-9fa7-4861-de6b-d3c365048471",
        "colab": {
          "base_uri": "https://localhost:8080/",
          "height": 35
        }
      },
      "source": [
        "# creating submission file\n",
        "#submission = pd.concat([pd.Series(range(1,28001),name = \"ImageId\"),results],axis = 1) \n",
        "submission = pd.concat([test['id'],results],axis = 1) \n",
        "submission.to_csv(\"kannada_mnist_using_cnn.csv\",index=False)\n",
        "print('csv file ready for submission')"
      ],
      "execution_count": 51,
      "outputs": [
        {
          "output_type": "stream",
          "text": [
            "csv file ready for submission\n"
          ],
          "name": "stdout"
        }
      ]
    }
  ]
}